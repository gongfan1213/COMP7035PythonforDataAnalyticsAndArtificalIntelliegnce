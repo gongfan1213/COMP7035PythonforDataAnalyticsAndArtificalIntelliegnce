{
  "cells": [
    {
      "cell_type": "markdown",
      "id": "ebe94592-8589-440e-9bb8-8bae5376ec03",
      "metadata": {
        "id": "ebe94592-8589-440e-9bb8-8bae5376ec03"
      },
      "source": [
        "# Lab Demo COMP7035 Week 10"
      ]
    },
    {
      "cell_type": "markdown",
      "id": "ff4d0970-2b4b-484e-a961-93d6e788b201",
      "metadata": {
        "id": "ff4d0970-2b4b-484e-a961-93d6e788b201"
      },
      "source": [
        "## Lab Demo COMP7035 Week 10\n",
        "### Be familiar with Keras for creating deep learning models"
      ]
    },
    {
      "cell_type": "markdown",
      "id": "1b10f938-7e2d-4769-80b0-5840b2562560",
      "metadata": {
        "id": "1b10f938-7e2d-4769-80b0-5840b2562560"
      },
      "source": [
        "## Exercise 1"
      ]
    },
    {
      "cell_type": "markdown",
      "id": "422a5061-aeec-4101-bac7-11a23f8167e4",
      "metadata": {
        "id": "422a5061-aeec-4101-bac7-11a23f8167e4"
      },
      "source": [
        "### Problem 1: Loading Datasets of MNIST\n",
        "#### Task 1.1: Based on the MNSIT dataset, since the pixel values are in the range of [0, 255], we normalize them to be within the range of [0, 1].\n",
        "#### Task 1.2: Converting class numerical vectors to binary class matrices"
      ]
    },
    {
      "cell_type": "code",
      "execution_count": null,
      "id": "07a4c244-c6ea-411c-8e50-eac388309240",
      "metadata": {
        "tags": [],
        "id": "07a4c244-c6ea-411c-8e50-eac388309240",
        "outputId": "119a04fd-2b39-4fc1-9e14-b017274bb827"
      },
      "outputs": [
        {
          "name": "stdout",
          "output_type": "stream",
          "text": [
            "x_train shape: (60000, 28, 28)\n",
            "60000 train samples\n",
            "10000 test samples\n",
            "[[0. 0. 0. ... 0. 0. 0.]\n",
            " [1. 0. 0. ... 0. 0. 0.]\n",
            " [0. 0. 0. ... 0. 0. 0.]\n",
            " ...\n",
            " [0. 0. 0. ... 0. 0. 0.]\n",
            " [0. 0. 0. ... 0. 0. 0.]\n",
            " [0. 0. 0. ... 0. 1. 0.]]\n"
          ]
        }
      ],
      "source": [
        "import keras\n",
        "import pandas as pd\n",
        "\n",
        "(x_train, y_train), (x_test, y_test) = keras.datasets.mnist.load_data()\n",
        "\n",
        "# Task 1.1: Write your codes to normalize the pixel values in the range of [0, 1]\n",
        "\n",
        "\n",
        "#print(\"x_train shape:\", x_train.shape)\n",
        "#print(x_train.shape[0], \"train samples\")\n",
        "#print(x_test.shape[0], \"test samples\")\n",
        "x_train_normalized = x_train / 255.0\n",
        "x_test_normalized = x_test / 255.0\n",
        "\n",
        "\n",
        "\n",
        "# Task 1.2: Converting class numerical vectors to binary class matrices (trying keras.utils.to_categorical)\n",
        "num_classes = 10\n",
        "\n",
        "y_train_binary = keras.utils.to_categorical(y_train, num_classes)\n",
        "y_test_binary = keras.utils.to_categorical(y_test, num_classes)\n",
        "\n",
        "#print(y_train)"
      ]
    },
    {
      "cell_type": "markdown",
      "id": "fde14d0b-b440-4298-9724-ba8010cb865e",
      "metadata": {
        "id": "fde14d0b-b440-4298-9724-ba8010cb865e"
      },
      "source": [
        "### Problem 2: Defining a DNN model with Keras (1)\n",
        "#### Using Dense layers to Compose a DNN with the structure as 784(input)-512(relu)-512(relu)-10(class), please output the model summary."
      ]
    },
    {
      "cell_type": "code",
      "execution_count": 11,
      "id": "972caf6d-80c5-4627-aca3-85039853a4d7",
      "metadata": {
        "tags": [],
        "colab": {
          "base_uri": "https://localhost:8080/"
        },
        "id": "972caf6d-80c5-4627-aca3-85039853a4d7",
        "outputId": "7a4c9676-eee3-4ba4-e2a5-af413677a077"
      },
      "outputs": [
        {
          "output_type": "stream",
          "name": "stdout",
          "text": [
            "Model: \"sequential_10\"\n",
            "_________________________________________________________________\n",
            " Layer (type)                Output Shape              Param #   \n",
            "=================================================================\n",
            " flatten_2 (Flatten)         (None, 784)               0         \n",
            "                                                                 \n",
            " dense_24 (Dense)            (None, 512)               401920    \n",
            "                                                                 \n",
            " dense_25 (Dense)            (None, 512)               262656    \n",
            "                                                                 \n",
            " dense_26 (Dense)            (None, 10)                5130      \n",
            "                                                                 \n",
            "=================================================================\n",
            "Total params: 669706 (2.55 MB)\n",
            "Trainable params: 669706 (2.55 MB)\n",
            "Non-trainable params: 0 (0.00 Byte)\n",
            "_________________________________________________________________\n"
          ]
        }
      ],
      "source": [
        "# Define the DNN model:\n",
        "from keras.models import Sequential\n",
        "from keras.layers import Dense, Flatten\n",
        "\n",
        "# Write your codes to define the DNN model\n",
        "model = Sequential()\n",
        "# Input layer (784 input nodes)\n",
        "model.add(Flatten(input_shape=(28, 28)))\n",
        "\n",
        "# Hidden layer 1 (512 nodes)\n",
        "model.add(Dense(512, activation='relu'))\n",
        "\n",
        "# Hidden layer 2 (512 nodes)\n",
        "model.add(Dense(512, activation='relu'))\n",
        "\n",
        "# Output layer (10 nodes for the 10 classes, using softmax activation for multi-class classification)\n",
        "model.add(Dense(10, activation='softmax'))\n",
        "\n",
        "model.summary()"
      ]
    },
    {
      "cell_type": "markdown",
      "id": "e50f0fdf-1994-4873-b949-cd52f2c698a7",
      "metadata": {
        "id": "e50f0fdf-1994-4873-b949-cd52f2c698a7"
      },
      "source": [
        "### Problem 3: Defining a DNN model with Keras (2)\n",
        "#### Using Input and Dense layers to Compose a DNN with the structure as 784(input)-512(relu)-512(relu)-10(class), please output the model summary."
      ]
    },
    {
      "cell_type": "code",
      "execution_count": 15,
      "id": "33ba021c-5737-4929-8276-9dc40df0affb",
      "metadata": {
        "tags": [],
        "colab": {
          "base_uri": "https://localhost:8080/"
        },
        "id": "33ba021c-5737-4929-8276-9dc40df0affb",
        "outputId": "09cde441-98e0-4d2f-e9d3-bdcb6ffb9392"
      },
      "outputs": [
        {
          "output_type": "stream",
          "name": "stdout",
          "text": [
            "Model: \"model\"\n",
            "_________________________________________________________________\n",
            " Layer (type)                Output Shape              Param #   \n",
            "=================================================================\n",
            " input_4 (InputLayer)        [(None, 784)]             0         \n",
            "                                                                 \n",
            " dense_36 (Dense)            (None, 512)               401920    \n",
            "                                                                 \n",
            " dense_37 (Dense)            (None, 512)               262656    \n",
            "                                                                 \n",
            " dense_38 (Dense)            (None, 10)                5130      \n",
            "                                                                 \n",
            "=================================================================\n",
            "Total params: 669706 (2.55 MB)\n",
            "Trainable params: 669706 (2.55 MB)\n",
            "Non-trainable params: 0 (0.00 Byte)\n",
            "_________________________________________________________________\n"
          ]
        }
      ],
      "source": [
        "# Define the DNN model:\n",
        "from keras.models import Sequential, Model\n",
        "from keras.layers import Dense, Input\n",
        "\n",
        "# Write your codes to define the DNN model\n",
        "\n",
        "# Define the input layer\n",
        "input_layer = Input(shape=(784,))\n",
        "\n",
        "# Hidden layer 1 (512 nodes)\n",
        "hidden_layer1 = Dense(512, activation='relu')(input_layer)\n",
        "\n",
        "# Hidden layer 2 (512 nodes)\n",
        "hidden_layer2 = Dense(512, activation='relu')(hidden_layer1)\n",
        "\n",
        "# Output layer (10 nodes for the 10 classes, using softmax activation for multi-class classification)\n",
        "output_layer = Dense(10, activation='softmax')(hidden_layer2)\n",
        "\n",
        "# Create the model\n",
        "model = Model(inputs=input_layer, outputs=output_layer)\n",
        "\n",
        "# Output the model summary\n",
        "model.summary()"
      ]
    },
    {
      "cell_type": "markdown",
      "id": "3ff7a577-2fdb-4981-9d61-8f2f56ff1549",
      "metadata": {
        "id": "3ff7a577-2fdb-4981-9d61-8f2f56ff1549"
      },
      "source": [
        "### Problem 4: Defining a DNN model with Keras (3)\n",
        "#### Using Sequential API to set up a DNN with the structure as 784(input)-512(relu)-512(relu)-10(class), please output the model summary."
      ]
    },
    {
      "cell_type": "code",
      "execution_count": 16,
      "id": "7651a0dc-b98b-4703-8514-cf6f6e968457",
      "metadata": {
        "tags": [],
        "colab": {
          "base_uri": "https://localhost:8080/"
        },
        "id": "7651a0dc-b98b-4703-8514-cf6f6e968457",
        "outputId": "6b60328c-7ae8-4603-9ce5-eef0ac36bb24"
      },
      "outputs": [
        {
          "output_type": "stream",
          "name": "stdout",
          "text": [
            "Model: \"sequential_12\"\n",
            "_________________________________________________________________\n",
            " Layer (type)                Output Shape              Param #   \n",
            "=================================================================\n",
            " dense_39 (Dense)            (None, 512)               401920    \n",
            "                                                                 \n",
            " dense_40 (Dense)            (None, 512)               262656    \n",
            "                                                                 \n",
            " dense_41 (Dense)            (None, 512)               262656    \n",
            "                                                                 \n",
            " dense_42 (Dense)            (None, 10)                5130      \n",
            "                                                                 \n",
            "=================================================================\n",
            "Total params: 932362 (3.56 MB)\n",
            "Trainable params: 932362 (3.56 MB)\n",
            "Non-trainable params: 0 (0.00 Byte)\n",
            "_________________________________________________________________\n"
          ]
        }
      ],
      "source": [
        "# Define the DNN model:\n",
        "from keras.models import Sequential\n",
        "from keras.layers import Dense, Input\n",
        "\n",
        "# Write your codes to define the DNN model\n",
        "\n",
        "# Define the DNN model\n",
        "model = Sequential()\n",
        "\n",
        "# Input layer (784 input nodes)\n",
        "model.add(Dense(512, input_shape=(784,), activation='relu'))\n",
        "\n",
        "# Hidden layer 1 (512 nodes)\n",
        "model.add(Dense(512, activation='relu'))\n",
        "\n",
        "# Hidden layer 2 (512 nodes)\n",
        "model.add(Dense(512, activation='relu'))\n",
        "\n",
        "# Output layer (10 nodes for the 10 classes, using softmax activation for multi-class classification)\n",
        "model.add(Dense(10, activation='softmax'))\n",
        "\n",
        "# Output the model summary\n",
        "model.summary()"
      ]
    },
    {
      "cell_type": "markdown",
      "id": "56b8c399-c5c6-41a6-a923-bfb0919e8e43",
      "metadata": {
        "id": "56b8c399-c5c6-41a6-a923-bfb0919e8e43"
      },
      "source": [
        "### Problem 5: Defining a DNN model with Keras (4)\n",
        "#### Using Sequential API to set up a DNN with a dropout for regularization, with the structure as 784(input)-512(relu)-512(relu)-Dropout(0.5)-10(class), please output the model summary."
      ]
    },
    {
      "cell_type": "code",
      "execution_count": 17,
      "id": "b3cf0885-a1e4-4d4d-9079-5b988b97ece8",
      "metadata": {
        "tags": [],
        "colab": {
          "base_uri": "https://localhost:8080/"
        },
        "id": "b3cf0885-a1e4-4d4d-9079-5b988b97ece8",
        "outputId": "ba9b8fce-d0b8-4fd3-81a6-a88e4e42094a"
      },
      "outputs": [
        {
          "output_type": "stream",
          "name": "stdout",
          "text": [
            "Model: \"sequential_13\"\n",
            "_________________________________________________________________\n",
            " Layer (type)                Output Shape              Param #   \n",
            "=================================================================\n",
            " dense_43 (Dense)            (None, 512)               401920    \n",
            "                                                                 \n",
            " dense_44 (Dense)            (None, 512)               262656    \n",
            "                                                                 \n",
            " dense_45 (Dense)            (None, 512)               262656    \n",
            "                                                                 \n",
            " dropout (Dropout)           (None, 512)               0         \n",
            "                                                                 \n",
            " dense_46 (Dense)            (None, 10)                5130      \n",
            "                                                                 \n",
            "=================================================================\n",
            "Total params: 932362 (3.56 MB)\n",
            "Trainable params: 932362 (3.56 MB)\n",
            "Non-trainable params: 0 (0.00 Byte)\n",
            "_________________________________________________________________\n"
          ]
        }
      ],
      "source": [
        "# Define the DNN model:\n",
        "from keras.models import Sequential\n",
        "from keras.layers import Dense, Input, Dropout\n",
        "\n",
        "# Define the DNN model with dropout\n",
        "model = Sequential()\n",
        "\n",
        "# Input layer (784 input nodes)\n",
        "model.add(Dense(512, input_shape=(784,), activation='relu'))\n",
        "\n",
        "# Hidden layer 1 (512 nodes)\n",
        "model.add(Dense(512, activation='relu'))\n",
        "\n",
        "# Hidden layer 2 (512 nodes)\n",
        "model.add(Dense(512, activation='relu'))\n",
        "\n",
        "# Dropout layer with dropout rate of 0.5\n",
        "model.add(Dropout(0.5))\n",
        "\n",
        "# Output layer (10 nodes for the 10 classes, using softmax activation for multi-class classification)\n",
        "model.add(Dense(10, activation='softmax'))\n",
        "\n",
        "# Output the model summary\n",
        "model.summary()"
      ]
    },
    {
      "cell_type": "markdown",
      "id": "d3936b97-9c40-4668-a461-96716e2b9129",
      "metadata": {
        "id": "d3936b97-9c40-4668-a461-96716e2b9129"
      },
      "source": [
        "### Problem 6: Defining a DNN model with Keras (5)\n",
        "#### Using Dense layers, concatenate, and Model to compose a the DNN structure below and output the model summary.\n",
        "![avatar](pro61.png)"
      ]
    },
    {
      "cell_type": "code",
      "execution_count": 23,
      "id": "c6b81cab-496b-499d-95fb-60b77888fade",
      "metadata": {
        "tags": [],
        "colab": {
          "base_uri": "https://localhost:8080/"
        },
        "id": "c6b81cab-496b-499d-95fb-60b77888fade",
        "outputId": "15a93a33-0318-4db2-e8c2-9fb2ad6aeabc"
      },
      "outputs": [
        {
          "output_type": "stream",
          "name": "stdout",
          "text": [
            "Model: \"model_5\"\n",
            "__________________________________________________________________________________________________\n",
            " Layer (type)                Output Shape                 Param #   Connected to                  \n",
            "==================================================================================================\n",
            " input_10 (InputLayer)       [(None, 784)]                0         []                            \n",
            "                                                                                                  \n",
            " dense_64 (Dense)            (None, 512)                  401920    ['input_10[0][0]']            \n",
            "                                                                                                  \n",
            " dense_66 (Dense)            (None, 256)                  131328    ['dense_64[0][0]']            \n",
            "                                                                                                  \n",
            " concatenate_4 (Concatenate  (None, 768)                  0         ['dense_64[0][0]',            \n",
            " )                                                                   'dense_66[0][0]']            \n",
            "                                                                                                  \n",
            " dense_67 (Dense)            (None, 10)                   7690      ['concatenate_4[0][0]']       \n",
            "                                                                                                  \n",
            "==================================================================================================\n",
            "Total params: 540938 (2.06 MB)\n",
            "Trainable params: 540938 (2.06 MB)\n",
            "Non-trainable params: 0 (0.00 Byte)\n",
            "__________________________________________________________________________________________________\n"
          ]
        }
      ],
      "source": [
        "# Define the DNN model:\n",
        "from keras.models import Model\n",
        "from keras.layers import Dense, Input, concatenate\n",
        "\n",
        "# Write your codes to define the DNN model\n",
        "\n",
        "# Define input layer\n",
        "input_layer = Input(shape=(784,))\n",
        "\n",
        "# First branch\n",
        "branch1 = Dense(512, activation='relu')(input_layer)\n",
        "\n",
        "# Second branch\n",
        "branch2_1 = Dense(512, activation='relu')(branch1)\n",
        "branch2_2 = Dense(256, activation='relu')(branch1)\n",
        "\n",
        "# Concatenate the output from the two branches\n",
        "concatenated = concatenate([branch1, branch2_2])\n",
        "\n",
        "# Output layer\n",
        "output_layer = Dense(10, activation='softmax')(concatenated)\n",
        "\n",
        "# Create the model\n",
        "model = Model(inputs=input_layer, outputs=output_layer)\n",
        "\n",
        "# Output the model summary\n",
        "model.summary()"
      ]
    },
    {
      "cell_type": "markdown",
      "id": "67f49526-9692-4c0b-b61f-68e52f811a37",
      "metadata": {
        "id": "67f49526-9692-4c0b-b61f-68e52f811a37"
      },
      "source": [
        "### Problem 7: Defining a DNN model with Keras (6)\n",
        "#### Using Functional API to package a DNN as a function. The DNN follows the architecture below and output the model summary.\n",
        "![avatar](pro61.png)"
      ]
    },
    {
      "cell_type": "code",
      "execution_count": 24,
      "id": "d2b0b703-23b6-4952-ac43-850b498a91ab",
      "metadata": {
        "tags": [],
        "colab": {
          "base_uri": "https://localhost:8080/"
        },
        "id": "d2b0b703-23b6-4952-ac43-850b498a91ab",
        "outputId": "8ab9ce20-0d9c-4578-8a9e-074ff3eefeca"
      },
      "outputs": [
        {
          "output_type": "stream",
          "name": "stdout",
          "text": [
            "Model: \"model_6\"\n",
            "__________________________________________________________________________________________________\n",
            " Layer (type)                Output Shape                 Param #   Connected to                  \n",
            "==================================================================================================\n",
            " input_11 (InputLayer)       [(None, 784)]                0         []                            \n",
            "                                                                                                  \n",
            " dense_68 (Dense)            (None, 512)                  401920    ['input_11[0][0]']            \n",
            "                                                                                                  \n",
            " dense_69 (Dense)            (None, 512)                  262656    ['dense_68[0][0]']            \n",
            "                                                                                                  \n",
            " dense_70 (Dense)            (None, 256)                  131328    ['dense_68[0][0]']            \n",
            "                                                                                                  \n",
            " concatenate_5 (Concatenate  (None, 768)                  0         ['dense_69[0][0]',            \n",
            " )                                                                   'dense_70[0][0]']            \n",
            "                                                                                                  \n",
            " dense_71 (Dense)            (None, 10)                   7690      ['concatenate_5[0][0]']       \n",
            "                                                                                                  \n",
            "==================================================================================================\n",
            "Total params: 803594 (3.07 MB)\n",
            "Trainable params: 803594 (3.07 MB)\n",
            "Non-trainable params: 0 (0.00 Byte)\n",
            "__________________________________________________________________________________________________\n"
          ]
        }
      ],
      "source": [
        "from keras.models import Model\n",
        "from keras.layers import Dense, Input, concatenate\n",
        "\n",
        "def MNIST_Model(in_shape, out_shape):\n",
        "    # Define input layer\n",
        "    input_layer = Input(shape=(in_shape,))\n",
        "\n",
        "    # Define linear layers\n",
        "    linear1 = Dense(512, activation='relu')(input_layer)\n",
        "    linear2 = Dense(512, activation='relu')(linear1)\n",
        "    linear3 = Dense(256, activation='relu')(linear1)\n",
        "\n",
        "    # Concatenate the outputs of linear2 and linear3\n",
        "    concatenated = concatenate([linear2, linear3])\n",
        "\n",
        "    # Output layer\n",
        "    output_layer = Dense(out_shape, activation='softmax')(concatenated)\n",
        "\n",
        "    # Create the model\n",
        "    model = Model(inputs=input_layer, outputs=output_layer)\n",
        "\n",
        "    return model\n",
        "\n",
        "# Example usage:\n",
        "input_shape = 784  # Assuming flattened MNIST images\n",
        "output_shape = 10   # Number of classes for MNIST\n",
        "mnist_model = MNIST_Model(input_shape, output_shape)\n",
        "\n",
        "# Display the model summary\n",
        "mnist_model.summary()"
      ]
    },
    {
      "cell_type": "markdown",
      "id": "04aaa96d-d1d3-4d1b-855f-f61ab375868c",
      "metadata": {
        "tags": [],
        "id": "04aaa96d-d1d3-4d1b-855f-f61ab375868c"
      },
      "source": [
        "### Problem 7: Defining a DNN model with Keras (6)\n",
        "#### Based on Problem 6, we suggest a clearer way of defininig the model: (1) define layers, operations, models; (2) the operations are easier to read when giving layer names in the codes.\n",
        "![avatar](pro62.png)"
      ]
    },
    {
      "cell_type": "code",
      "execution_count": 25,
      "id": "8f74f803-fff6-4263-b028-c0df7882e335",
      "metadata": {
        "tags": [],
        "colab": {
          "base_uri": "https://localhost:8080/"
        },
        "id": "8f74f803-fff6-4263-b028-c0df7882e335",
        "outputId": "a0390cb2-671e-4ab6-ec99-092c244450ff"
      },
      "outputs": [
        {
          "output_type": "stream",
          "name": "stdout",
          "text": [
            "Model: \"model_7\"\n",
            "__________________________________________________________________________________________________\n",
            " Layer (type)                Output Shape                 Param #   Connected to                  \n",
            "==================================================================================================\n",
            " input_10 (InputLayer)       [(None, 784)]                0         []                            \n",
            "                                                                                                  \n",
            " linear1 (Dense)             (None, 512)                  401920    ['input_10[0][0]']            \n",
            "                                                                                                  \n",
            " linear2 (Dense)             (None, 512)                  262656    ['linear1[0][0]']             \n",
            "                                                                                                  \n",
            " linear3 (Dense)             (None, 256)                  131328    ['linear1[0][0]']             \n",
            "                                                                                                  \n",
            " concatenated (Concatenate)  (None, 768)                  0         ['linear2[0][0]',             \n",
            "                                                                     'linear3[0][0]']             \n",
            "                                                                                                  \n",
            " output_layer (Dense)        (None, 10)                   7690      ['concatenated[0][0]']        \n",
            "                                                                                                  \n",
            "==================================================================================================\n",
            "Total params: 803594 (3.07 MB)\n",
            "Trainable params: 803594 (3.07 MB)\n",
            "Non-trainable params: 0 (0.00 Byte)\n",
            "__________________________________________________________________________________________________\n"
          ]
        }
      ],
      "source": [
        "# Define the model using functional API:\n",
        "from keras.models import Model\n",
        "from keras.layers import Dense, Input, concatenate\n",
        "\n",
        "def MNIST_Model(in_shape, out_shape):\n",
        "    # Write your codes to finis\n",
        "\n",
        "    # Define linear layers\n",
        "    linear1 = Dense(512, activation='relu', name='linear1')(input_layer)\n",
        "    linear2 = Dense(512, activation='relu', name='linear2')(linear1)\n",
        "    linear3 = Dense(256, activation='relu', name='linear3')(linear1)\n",
        "\n",
        "    # Concatenate the outputs of linear2 and linear3\n",
        "    concatenated = concatenate([linear2, linear3], name='concatenated')\n",
        "\n",
        "    # Output layer\n",
        "    output_layer = Dense(out_shape, activation='softmax', name='output_layer')(concatenated)\n",
        "\n",
        "    # Create the model\n",
        "    model = Model(inputs=input_layer, outputs=output_layer)\n",
        "\n",
        "    return model\n",
        "\n",
        "input_shape = 784\n",
        "output_shape = 10\n",
        "mnist_model = MNIST_Model(input_shape, output_shape)\n",
        "mnist_model.summary()\n"
      ]
    },
    {
      "cell_type": "markdown",
      "id": "0f2cc2aa-bbed-4856-b7e5-dc7e70216a2f",
      "metadata": {
        "id": "0f2cc2aa-bbed-4856-b7e5-dc7e70216a2f"
      },
      "source": [
        "## Exercise 2"
      ]
    },
    {
      "cell_type": "markdown",
      "id": "7590c289-61e0-4dd4-b36e-4b10a2c3099d",
      "metadata": {
        "id": "7590c289-61e0-4dd4-b36e-4b10a2c3099d"
      },
      "source": [
        "### Using Dense layers, concatenate, and Model to set up a the DNN structure below and output the model summary.\n",
        "![avatar](pro21.png)"
      ]
    },
    {
      "cell_type": "code",
      "execution_count": 29,
      "id": "b69ea6db-96f5-487e-b300-37bbf752efa3",
      "metadata": {
        "tags": [],
        "colab": {
          "base_uri": "https://localhost:8080/"
        },
        "id": "b69ea6db-96f5-487e-b300-37bbf752efa3",
        "outputId": "e5bccc10-bfb5-4f90-8a73-29c15defeed6"
      },
      "outputs": [
        {
          "output_type": "stream",
          "name": "stdout",
          "text": [
            "Model: \"model_10\"\n",
            "__________________________________________________________________________________________________\n",
            " Layer (type)                Output Shape                 Param #   Connected to                  \n",
            "==================================================================================================\n",
            " input_layer (InputLayer)    [(None, 784)]                0         []                            \n",
            "                                                                                                  \n",
            " dense1 (Dense)              (None, 512)                  401920    ['input_layer[0][0]']         \n",
            "                                                                                                  \n",
            " relu1 (Activation)          (None, 512)                  0         ['dense1[0][0]']              \n",
            "                                                                                                  \n",
            " dense2 (Dense)              (None, 784)                  402192    ['relu1[0][0]']               \n",
            "                                                                                                  \n",
            " added (Concatenate)         (None, 1568)                 0         ['dense2[0][0]',              \n",
            "                                                                     'input_layer[0][0]']         \n",
            "                                                                                                  \n",
            " output_layer (Activation)   (None, 1568)                 0         ['added[0][0]']               \n",
            "                                                                                                  \n",
            "==================================================================================================\n",
            "Total params: 804112 (3.07 MB)\n",
            "Trainable params: 804112 (3.07 MB)\n",
            "Non-trainable params: 0 (0.00 Byte)\n",
            "__________________________________________________________________________________________________\n"
          ]
        }
      ],
      "source": [
        "# Define the DNN model:\n",
        "from keras.models import Model\n",
        "from keras.layers import Dense, Input, concatenate,Activation\n",
        "\n",
        "# Write your codes to define the DNN model\n",
        "def custom_dnn(in_shape):\n",
        "    # Define input layer\n",
        "    input_layer = Input(shape=(in_shape,), name='input_layer')\n",
        "\n",
        "    # Dense layer 1\n",
        "    dense1 = Dense(512, name='dense1')(input_layer)\n",
        "    relu1 = Activation('relu', name='relu1')(dense1)\n",
        "\n",
        "    # Dense layer 2\n",
        "    dense2 = Dense(784, name='dense2')(relu1)\n",
        "\n",
        "    # Element-wise addition with the input (identity mapping)\n",
        "    added = concatenate([dense2, input_layer], name='added')\n",
        "\n",
        "    # ReLU activation\n",
        "    output_layer = Activation('relu', name='output_layer')(added)\n",
        "\n",
        "    # Create the model\n",
        "    model = Model(inputs=input_layer, outputs=output_layer)\n",
        "\n",
        "    return model\n",
        "\n",
        "# Example usage:\n",
        "input_shape = 784  # Assuming flattened input\n",
        "custom_model = custom_dnn(input_shape)\n",
        "\n",
        "# Display the model summary\n",
        "custom_model.summary()\n",
        "\n",
        "#model.summary()"
      ]
    },
    {
      "cell_type": "code",
      "execution_count": null,
      "id": "0bc829f0-c3c2-47a8-8438-b276044f13e8",
      "metadata": {
        "id": "0bc829f0-c3c2-47a8-8438-b276044f13e8"
      },
      "outputs": [],
      "source": []
    }
  ],
  "metadata": {
    "kernelspec": {
      "display_name": "Python 3 (ipykernel)",
      "language": "python",
      "name": "python3"
    },
    "language_info": {
      "codemirror_mode": {
        "name": "ipython",
        "version": 3
      },
      "file_extension": ".py",
      "mimetype": "text/x-python",
      "name": "python",
      "nbconvert_exporter": "python",
      "pygments_lexer": "ipython3",
      "version": "3.11.5"
    },
    "colab": {
      "provenance": []
    }
  },
  "nbformat": 4,
  "nbformat_minor": 5
}