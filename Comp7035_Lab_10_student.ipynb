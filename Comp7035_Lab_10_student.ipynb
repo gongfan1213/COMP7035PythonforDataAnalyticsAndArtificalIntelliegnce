{
 "cells": [
  {
   "cell_type": "markdown",
   "id": "ebe94592-8589-440e-9bb8-8bae5376ec03",
   "metadata": {},
   "source": [
    "# Lab Demo COMP7035 Week 10"
   ]
  },
  {
   "cell_type": "markdown",
   "id": "ff4d0970-2b4b-484e-a961-93d6e788b201",
   "metadata": {},
   "source": [
    "## Lab Demo COMP7035 Week 10\n",
    "### Be familiar with Keras for creating deep learning models"
   ]
  },
  {
   "cell_type": "markdown",
   "id": "1b10f938-7e2d-4769-80b0-5840b2562560",
   "metadata": {},
   "source": [
    "## Exercise 1"
   ]
  },
  {
   "cell_type": "markdown",
   "id": "422a5061-aeec-4101-bac7-11a23f8167e4",
   "metadata": {},
   "source": [
    "### Problem 1: Loading Datasets of MNIST\n",
    "#### Task 1.1: Based on the MNSIT dataset, since the pixel values are in the range of [0, 255], we normalize them to be within the range of [0, 1]. \n",
    "#### Task 1.2: Converting class numerical vectors to binary class matrices"
   ]
  },
  {
   "cell_type": "code",
   "execution_count": 7,
   "id": "07a4c244-c6ea-411c-8e50-eac388309240",
   "metadata": {
    "tags": []
   },
   "outputs": [
    {
     "name": "stdout",
     "output_type": "stream",
     "text": [
      "x_train shape: (60000, 28, 28)\n",
      "60000 train samples\n",
      "10000 test samples\n",
      "[[0. 0. 0. ... 0. 0. 0.]\n",
      " [1. 0. 0. ... 0. 0. 0.]\n",
      " [0. 0. 0. ... 0. 0. 0.]\n",
      " ...\n",
      " [0. 0. 0. ... 0. 0. 0.]\n",
      " [0. 0. 0. ... 0. 0. 0.]\n",
      " [0. 0. 0. ... 0. 1. 0.]]\n"
     ]
    }
   ],
   "source": [
    "import keras\n",
    "import pandas as pd \n",
    "\n",
    "(x_train, y_train), (x_test, y_test) = keras.datasets.mnist.load_data()\n",
    "\n",
    "# Task 1.1: Write your codes to normalize the pixel values in the range of [0, 1]\n",
    "\n",
    "\n",
    "#print(\"x_train shape:\", x_train.shape)\n",
    "#print(x_train.shape[0], \"train samples\")\n",
    "#print(x_test.shape[0], \"test samples\")\n",
    "\n",
    "# Task 1.2: Converting class numerical vectors to binary class matrices (trying keras.utils.to_categorical)\n",
    "num_classes = 10\n",
    "\n",
    "#print(y_train)"
   ]
  },
  {
   "cell_type": "markdown",
   "id": "fde14d0b-b440-4298-9724-ba8010cb865e",
   "metadata": {},
   "source": [
    "### Problem 2: Defining a DNN model with Keras (1)\n",
    "#### Using Dense layers to Compose a DNN with the structure as 784(input)-512(relu)-512(relu)-10(class), please output the model summary."
   ]
  },
  {
   "cell_type": "code",
   "execution_count": 9,
   "id": "972caf6d-80c5-4627-aca3-85039853a4d7",
   "metadata": {
    "tags": []
   },
   "outputs": [
    {
     "name": "stdout",
     "output_type": "stream",
     "text": [
      "Model: \"sequential_1\"\n",
      "_________________________________________________________________\n",
      " Layer (type)                Output Shape              Param #   \n",
      "=================================================================\n",
      " dense_3 (Dense)             (None, 512)               401920    \n",
      "                                                                 \n",
      " dense_4 (Dense)             (None, 512)               262656    \n",
      "                                                                 \n",
      " dense_5 (Dense)             (None, 10)                5130      \n",
      "                                                                 \n",
      "=================================================================\n",
      "Total params: 669706 (2.55 MB)\n",
      "Trainable params: 669706 (2.55 MB)\n",
      "Non-trainable params: 0 (0.00 Byte)\n",
      "_________________________________________________________________\n"
     ]
    }
   ],
   "source": [
    "# Define the DNN model:\n",
    "from keras.models import Sequential\n",
    "from keras.layers import Dense \n",
    "\n",
    "# Write your codes to define the DNN model\n",
    "\n",
    "\n",
    "#model.summary()"
   ]
  },
  {
   "cell_type": "markdown",
   "id": "e50f0fdf-1994-4873-b949-cd52f2c698a7",
   "metadata": {},
   "source": [
    "### Problem 3: Defining a DNN model with Keras (2)\n",
    "#### Using Input and Dense layers to Compose a DNN with the structure as 784(input)-512(relu)-512(relu)-10(class), please output the model summary."
   ]
  },
  {
   "cell_type": "code",
   "execution_count": 11,
   "id": "33ba021c-5737-4929-8276-9dc40df0affb",
   "metadata": {
    "tags": []
   },
   "outputs": [
    {
     "name": "stdout",
     "output_type": "stream",
     "text": [
      "Model: \"sequential_3\"\n",
      "_________________________________________________________________\n",
      " Layer (type)                Output Shape              Param #   \n",
      "=================================================================\n",
      " dense_6 (Dense)             (None, 512)               401920    \n",
      "                                                                 \n",
      " dense_7 (Dense)             (None, 512)               262656    \n",
      "                                                                 \n",
      " dense_8 (Dense)             (None, 10)                5130      \n",
      "                                                                 \n",
      "=================================================================\n",
      "Total params: 669706 (2.55 MB)\n",
      "Trainable params: 669706 (2.55 MB)\n",
      "Non-trainable params: 0 (0.00 Byte)\n",
      "_________________________________________________________________\n"
     ]
    }
   ],
   "source": [
    "# Define the DNN model:\n",
    "from keras.models import Sequential\n",
    "from keras.layers import Dense, Input\n",
    "\n",
    "# Write your codes to define the DNN model\n",
    "\n",
    "#model.summary()"
   ]
  },
  {
   "cell_type": "markdown",
   "id": "3ff7a577-2fdb-4981-9d61-8f2f56ff1549",
   "metadata": {},
   "source": [
    "### Problem 4: Defining a DNN model with Keras (3)\n",
    "#### Using Sequential API to set up a DNN with the structure as 784(input)-512(relu)-512(relu)-10(class), please output the model summary. "
   ]
  },
  {
   "cell_type": "code",
   "execution_count": 12,
   "id": "7651a0dc-b98b-4703-8514-cf6f6e968457",
   "metadata": {
    "tags": []
   },
   "outputs": [
    {
     "name": "stdout",
     "output_type": "stream",
     "text": [
      "Model: \"sequential_4\"\n",
      "_________________________________________________________________\n",
      " Layer (type)                Output Shape              Param #   \n",
      "=================================================================\n",
      " dense_9 (Dense)             (None, 512)               401920    \n",
      "                                                                 \n",
      " dense_10 (Dense)            (None, 512)               262656    \n",
      "                                                                 \n",
      " dense_11 (Dense)            (None, 10)                5130      \n",
      "                                                                 \n",
      "=================================================================\n",
      "Total params: 669706 (2.55 MB)\n",
      "Trainable params: 669706 (2.55 MB)\n",
      "Non-trainable params: 0 (0.00 Byte)\n",
      "_________________________________________________________________\n"
     ]
    }
   ],
   "source": [
    "# Define the DNN model:\n",
    "from keras.models import Sequential\n",
    "from keras.layers import Dense, Input\n",
    "\n",
    "# Write your codes to define the DNN model\n",
    "\n",
    "\n",
    "# model.summary()"
   ]
  },
  {
   "cell_type": "markdown",
   "id": "56b8c399-c5c6-41a6-a923-bfb0919e8e43",
   "metadata": {},
   "source": [
    "### Problem 5: Defining a DNN model with Keras (4)\n",
    "#### Using Sequential API to set up a DNN with a dropout for regularization, with the structure as 784(input)-512(relu)-512(relu)-Dropout(0.5)-10(class), please output the model summary."
   ]
  },
  {
   "cell_type": "code",
   "execution_count": 14,
   "id": "b3cf0885-a1e4-4d4d-9079-5b988b97ece8",
   "metadata": {
    "tags": []
   },
   "outputs": [
    {
     "name": "stdout",
     "output_type": "stream",
     "text": [
      "Model: \"sequential_5\"\n",
      "_________________________________________________________________\n",
      " Layer (type)                Output Shape              Param #   \n",
      "=================================================================\n",
      " dense_14 (Dense)            (None, 512)               401920    \n",
      "                                                                 \n",
      " dense_15 (Dense)            (None, 512)               262656    \n",
      "                                                                 \n",
      " dropout (Dropout)           (None, 512)               0         \n",
      "                                                                 \n",
      " dense_16 (Dense)            (None, 10)                5130      \n",
      "                                                                 \n",
      "=================================================================\n",
      "Total params: 669706 (2.55 MB)\n",
      "Trainable params: 669706 (2.55 MB)\n",
      "Non-trainable params: 0 (0.00 Byte)\n",
      "_________________________________________________________________\n"
     ]
    }
   ],
   "source": [
    "# Define the DNN model:\n",
    "from keras.models import Sequential\n",
    "from keras.layers import Dense, Input, Dropout\n",
    "\n",
    "# Write your codes to define the DNN model\n",
    "\n",
    "\n",
    "# model.summary()"
   ]
  },
  {
   "cell_type": "markdown",
   "id": "d3936b97-9c40-4668-a461-96716e2b9129",
   "metadata": {},
   "source": [
    "### Problem 6: Defining a DNN model with Keras (5)\n",
    "#### Using Dense layers, concatenate, and Model to compose a the DNN structure below and output the model summary.\n",
    "![avatar](pro61.png)"
   ]
  },
  {
   "cell_type": "code",
   "execution_count": 16,
   "id": "c6b81cab-496b-499d-95fb-60b77888fade",
   "metadata": {
    "tags": []
   },
   "outputs": [
    {
     "name": "stdout",
     "output_type": "stream",
     "text": [
      "Model: \"model\"\n",
      "__________________________________________________________________________________________________\n",
      " Layer (type)                Output Shape                 Param #   Connected to                  \n",
      "==================================================================================================\n",
      " input_6 (InputLayer)        [(None, 784)]                0         []                            \n",
      "                                                                                                  \n",
      " dense_21 (Dense)            (None, 512)                  401920    ['input_6[0][0]']             \n",
      "                                                                                                  \n",
      " dense_22 (Dense)            (None, 512)                  262656    ['dense_21[0][0]']            \n",
      "                                                                                                  \n",
      " dense_23 (Dense)            (None, 256)                  131328    ['dense_21[0][0]']            \n",
      "                                                                                                  \n",
      " concatenate_1 (Concatenate  (None, 768)                  0         ['dense_22[0][0]',            \n",
      " )                                                                   'dense_23[0][0]']            \n",
      "                                                                                                  \n",
      " dense_24 (Dense)            (None, 10)                   7690      ['concatenate_1[0][0]']       \n",
      "                                                                                                  \n",
      "==================================================================================================\n",
      "Total params: 803594 (3.07 MB)\n",
      "Trainable params: 803594 (3.07 MB)\n",
      "Non-trainable params: 0 (0.00 Byte)\n",
      "__________________________________________________________________________________________________\n"
     ]
    }
   ],
   "source": [
    "# Define the DNN model:\n",
    "from keras.models import Model\n",
    "from keras.layers import Dense, Input, concatenate\n",
    "\n",
    "# Write your codes to define the DNN model\n",
    "\n",
    "\n",
    "# model.summary()"
   ]
  },
  {
   "cell_type": "markdown",
   "id": "67f49526-9692-4c0b-b61f-68e52f811a37",
   "metadata": {},
   "source": [
    "### Problem 7: Defining a DNN model with Keras (6)\n",
    "#### Using Functional API to package a DNN as a function. The DNN follows the architecture below and output the model summary. \n",
    "![avatar](pro61.png)"
   ]
  },
  {
   "cell_type": "code",
   "execution_count": 19,
   "id": "d2b0b703-23b6-4952-ac43-850b498a91ab",
   "metadata": {
    "tags": []
   },
   "outputs": [
    {
     "name": "stdout",
     "output_type": "stream",
     "text": [
      "Model: \"model_1\"\n",
      "__________________________________________________________________________________________________\n",
      " Layer (type)                Output Shape                 Param #   Connected to                  \n",
      "==================================================================================================\n",
      " input_8 (InputLayer)        [(None, 784)]                0         []                            \n",
      "                                                                                                  \n",
      " dense_29 (Dense)            (None, 512)                  401920    ['input_8[0][0]']             \n",
      "                                                                                                  \n",
      " dense_30 (Dense)            (None, 512)                  262656    ['dense_29[0][0]']            \n",
      "                                                                                                  \n",
      " dense_31 (Dense)            (None, 256)                  131328    ['dense_29[0][0]']            \n",
      "                                                                                                  \n",
      " concatenate_3 (Concatenate  (None, 768)                  0         ['dense_30[0][0]',            \n",
      " )                                                                   'dense_31[0][0]']            \n",
      "                                                                                                  \n",
      " dense_32 (Dense)            (None, 10)                   7690      ['concatenate_3[0][0]']       \n",
      "                                                                                                  \n",
      "==================================================================================================\n",
      "Total params: 803594 (3.07 MB)\n",
      "Trainable params: 803594 (3.07 MB)\n",
      "Non-trainable params: 0 (0.00 Byte)\n",
      "__________________________________________________________________________________________________\n"
     ]
    }
   ],
   "source": [
    "from keras.models import Model\n",
    "from keras.layers import Dense, Input, concatenate\n",
    "\n",
    "def MNIST_Model(in_shape, out_shape):\n",
    "    # Write your codes to finish the function\n",
    "    \n",
    "    return None\n",
    "\n",
    "#my_model.summary()"
   ]
  },
  {
   "cell_type": "markdown",
   "id": "04aaa96d-d1d3-4d1b-855f-f61ab375868c",
   "metadata": {
    "tags": []
   },
   "source": [
    "### Problem 7: Defining a DNN model with Keras (6)\n",
    "#### Based on Problem 6, we suggest a clearer way of defininig the model: (1) define layers, operations, models; (2) the operations are easier to read when giving layer names in the codes. \n",
    "![avatar](pro62.png)"
   ]
  },
  {
   "cell_type": "code",
   "execution_count": 21,
   "id": "8f74f803-fff6-4263-b028-c0df7882e335",
   "metadata": {
    "tags": []
   },
   "outputs": [
    {
     "name": "stdout",
     "output_type": "stream",
     "text": [
      "Model: \"model_2\"\n",
      "__________________________________________________________________________________________________\n",
      " Layer (type)                Output Shape                 Param #   Connected to                  \n",
      "==================================================================================================\n",
      " input_9 (InputLayer)        [(None, 784)]                0         []                            \n",
      "                                                                                                  \n",
      " dense_33 (Dense)            (None, 512)                  401920    ['input_9[0][0]']             \n",
      "                                                                                                  \n",
      " dense_34 (Dense)            (None, 512)                  262656    ['dense_33[0][0]']            \n",
      "                                                                                                  \n",
      " dense_35 (Dense)            (None, 512)                  262656    ['dense_33[0][0]']            \n",
      "                                                                                                  \n",
      " concatenate_4 (Concatenate  (None, 1024)                 0         ['dense_34[0][0]',            \n",
      " )                                                                   'dense_35[0][0]']            \n",
      "                                                                                                  \n",
      " dense_36 (Dense)            (None, 10)                   10250     ['concatenate_4[0][0]']       \n",
      "                                                                                                  \n",
      "==================================================================================================\n",
      "Total params: 937482 (3.58 MB)\n",
      "Trainable params: 937482 (3.58 MB)\n",
      "Non-trainable params: 0 (0.00 Byte)\n",
      "__________________________________________________________________________________________________\n"
     ]
    }
   ],
   "source": [
    "# Define the model using functional API:\n",
    "from keras.models import Model\n",
    "from keras.layers import Dense, Input, concatenate\n",
    "\n",
    "def MNIST_Model(in_shape, out_shape):\n",
    "    # Write your codes to finis the function\n",
    "\n",
    "    return None\n",
    " \n",
    "#my_model.summary()"
   ]
  },
  {
   "cell_type": "markdown",
   "id": "0f2cc2aa-bbed-4856-b7e5-dc7e70216a2f",
   "metadata": {},
   "source": [
    "## Exercise 2"
   ]
  },
  {
   "cell_type": "markdown",
   "id": "7590c289-61e0-4dd4-b36e-4b10a2c3099d",
   "metadata": {},
   "source": [
    "### Using Dense layers, concatenate, and Model to set up a the DNN structure below and output the model summary.\n",
    "![avatar](pro21.png)"
   ]
  },
  {
   "cell_type": "code",
   "execution_count": 24,
   "id": "b69ea6db-96f5-487e-b300-37bbf752efa3",
   "metadata": {
    "tags": []
   },
   "outputs": [
    {
     "name": "stdout",
     "output_type": "stream",
     "text": [
      "Model: \"model_4\"\n",
      "__________________________________________________________________________________________________\n",
      " Layer (type)                Output Shape                 Param #   Connected to                  \n",
      "==================================================================================================\n",
      " input_11 (InputLayer)       [(None, 784)]                0         []                            \n",
      "                                                                                                  \n",
      " dense_40 (Dense)            (None, 512)                  401920    ['input_11[0][0]']            \n",
      "                                                                                                  \n",
      " dense_41 (Dense)            (None, 784)                  402192    ['dense_40[0][0]']            \n",
      "                                                                                                  \n",
      " concatenate_6 (Concatenate  (None, 1568)                 0         ['dense_41[0][0]',            \n",
      " )                                                                   'input_11[0][0]']            \n",
      "                                                                                                  \n",
      " dense_42 (Dense)            (None, 10)                   15690     ['concatenate_6[0][0]']       \n",
      "                                                                                                  \n",
      "==================================================================================================\n",
      "Total params: 819802 (3.13 MB)\n",
      "Trainable params: 819802 (3.13 MB)\n",
      "Non-trainable params: 0 (0.00 Byte)\n",
      "__________________________________________________________________________________________________\n"
     ]
    }
   ],
   "source": [
    "# Define the DNN model:\n",
    "from keras.models import Model\n",
    "from keras.layers import Dense, Input, concatenate\n",
    "\n",
    "# Write your codes to define the DNN model\n",
    "\n",
    "\n",
    "#model.summary()"
   ]
  },
  {
   "cell_type": "code",
   "execution_count": null,
   "id": "0bc829f0-c3c2-47a8-8438-b276044f13e8",
   "metadata": {},
   "outputs": [],
   "source": []
  }
 ],
 "metadata": {
  "kernelspec": {
   "display_name": "Python 3 (ipykernel)",
   "language": "python",
   "name": "python3"
  },
  "language_info": {
   "codemirror_mode": {
    "name": "ipython",
    "version": 3
   },
   "file_extension": ".py",
   "mimetype": "text/x-python",
   "name": "python",
   "nbconvert_exporter": "python",
   "pygments_lexer": "ipython3",
   "version": "3.11.5"
  }
 },
 "nbformat": 4,
 "nbformat_minor": 5
}
