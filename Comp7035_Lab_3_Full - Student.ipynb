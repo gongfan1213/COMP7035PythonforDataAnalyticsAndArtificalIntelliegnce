{
  "cells": [
    {
      "cell_type": "markdown",
      "metadata": {
        "id": "2-xCGHQzUSmU",
        "nteract": {
          "transient": {
            "deleting": false
          }
        }
      },
      "source": [
        "## Lab Demo COMP7035 Week 3"
      ]
    },
    {
      "cell_type": "markdown",
      "metadata": {
        "id": "w2zRyv2BUSmV"
      },
      "source": [
        "#### Exercise-1"
      ]
    },
    {
      "cell_type": "markdown",
      "metadata": {
        "id": "hF83xRaXUSmW"
      },
      "source": [
        "Q1: Write a Python function to sum all the numbers in a list."
      ]
    },
    {
      "cell_type": "code",
      "execution_count": null,
      "metadata": {
        "colab": {
          "base_uri": "https://localhost:8080/"
        },
        "id": "LM8vOby7USmW",
        "outputId": "b74aad72-8564-44ce-a183-8969942333c5"
      },
      "outputs": [
        {
          "name": "stdout",
          "output_type": "stream",
          "text": [
            "20\n"
          ]
        }
      ],
      "source": [
        "#def sum(numbers):\n"
      ]
    },
    {
      "cell_type": "markdown",
      "metadata": {
        "id": "Xj7HD_ZQUSmW"
      },
      "source": [
        "Q2: Write a Python function to multiply all the numbers in a list."
      ]
    },
    {
      "cell_type": "code",
      "execution_count": null,
      "metadata": {
        "colab": {
          "base_uri": "https://localhost:8080/"
        },
        "id": "lSszaUxCUSmX",
        "outputId": "da563393-6e8c-47d6-ee0e-c22f3be41b83"
      },
      "outputs": [
        {
          "name": "stdout",
          "output_type": "stream",
          "text": [
            "-336\n"
          ]
        }
      ],
      "source": [
        "#def multiply(numbers):\n"
      ]
    },
    {
      "cell_type": "markdown",
      "metadata": {
        "id": "vnDL2nvKeELL"
      },
      "source": [
        "Q3: Write a Python function that takes a list and returns a new list with distinct elements from the first list.\n",
        "\n",
        "Sample List : [1,2,3,3,3,3,4,5]\n",
        "\n",
        "Unique List : [1, 2, 3, 4, 5]"
      ]
    },
    {
      "cell_type": "code",
      "execution_count": null,
      "metadata": {
        "id": "FR6AAyHqUSmX"
      },
      "outputs": [],
      "source": [
        "#def unique_list(l):"
      ]
    },
    {
      "cell_type": "markdown",
      "metadata": {
        "id": "hV3RYiOJUSmX"
      },
      "source": [
        "Q4: Write a Python program to print the even numbers from a given list.\n",
        "\n",
        "Sample List : [1, 2, 3, 4, 5, 6, 7, 8, 9]\n",
        "\n",
        "Expected Result : [2, 4, 6, 8]"
      ]
    },
    {
      "cell_type": "code",
      "execution_count": null,
      "metadata": {
        "id": "SrcJYwaGUSmX"
      },
      "outputs": [],
      "source": [
        "#def is_even_num(l):"
      ]
    },
    {
      "cell_type": "markdown",
      "metadata": {
        "id": "upH2iC0UUSmX"
      },
      "source": [
        "Q5: Write a Python function to check whether a string is a pangram or not.\n",
        "If it is pangram, return true, otherwise return false\n",
        "\n",
        "**Note**: Pangrams are words or sentences containing every letter of the alphabet at least once.\n",
        "\n",
        "For example : \"The quick brown fox jumps over the lazy dog\""
      ]
    },
    {
      "cell_type": "code",
      "execution_count": null,
      "metadata": {
        "colab": {
          "base_uri": "https://localhost:8080/"
        },
        "id": "lQ6g6QaqUSmY",
        "outputId": "22258634-9943-4a90-c7e3-7ebc9b88ffd7"
      },
      "outputs": [
        {
          "name": "stdout",
          "output_type": "stream",
          "text": [
            "{'c', 'x', ' ', 'i', 'b', 'q', 'h', 'g', 'm', 'l', 'd', 'v', 'z', 'j', 'k', 'a', 'n', 't', 'p', 'r', 'o', 'f', 's', 'u', 'y', 'w', 'e'}\n",
            "True\n"
          ]
        }
      ],
      "source": [
        "#def ispangram(str1, alphabet=26):\n"
      ]
    },
    {
      "cell_type": "markdown",
      "metadata": {
        "id": "cN0d_XbJUSmY"
      },
      "source": [
        "Q6: Write a Python function to find the maximum of three numbers."
      ]
    },
    {
      "cell_type": "code",
      "execution_count": null,
      "metadata": {
        "colab": {
          "base_uri": "https://localhost:8080/"
        },
        "id": "pWaSg_SAUSmY",
        "outputId": "dcc22271-c377-4f22-86f7-fcd7c5ba2f5d"
      },
      "outputs": [
        {
          "name": "stdout",
          "output_type": "stream",
          "text": [
            "5\n"
          ]
        }
      ],
      "source": [
        "#def maximum(a, b, c):"
      ]
    },
    {
      "cell_type": "markdown",
      "metadata": {
        "id": "21pkPZnhUSmY"
      },
      "source": [
        " Q7. Calculate the sum of diagonal elements in a 3x3 matrix using a Python function"
      ]
    },
    {
      "cell_type": "code",
      "execution_count": null,
      "metadata": {
        "colab": {
          "base_uri": "https://localhost:8080/"
        },
        "id": "Qoye01rvUSmY",
        "outputId": "68149a5b-e7c4-4b5e-a36c-d42ce0822162"
      },
      "outputs": [
        {
          "name": "stdout",
          "output_type": "stream",
          "text": [
            "15\n"
          ]
        }
      ],
      "source": [
        "#def sum_of_diagonal(matrix):"
      ]
    },
    {
      "cell_type": "markdown",
      "metadata": {
        "id": "yQP8ertnUSmY"
      },
      "source": [
        "Q8: Judge whether a number is an armstrong number.\n",
        "\n",
        "What is armstrong numbers\n",
        "\n",
        "153&nbsp;=&nbsp;1<sup>3</sup>&nbsp;+&nbsp;5<sup>3</sup>&nbsp;+&nbsp;3<sup>3</sup>\n",
        "\n",
        "370&nbsp;=&nbsp;3<sup>3</sup>&nbsp;+&nbsp;7<sup>3</sup>&nbsp;+&nbsp;0<sup>3</sup>\n",
        "\n",
        "371&nbsp;=&nbsp;3<sup>3</sup>&nbsp;+&nbsp;7<sup>3</sup>&nbsp;+&nbsp;1<sup>3</sup>\n",
        "\n",
        "407&nbsp;=&nbsp;4<sup>3</sup>&nbsp;+&nbsp;0<sup>3</sup>&nbsp;+&nbsp;7<sup>3</sup>\n"
      ]
    },
    {
      "cell_type": "code",
      "execution_count": null,
      "metadata": {
        "colab": {
          "base_uri": "https://localhost:8080/"
        },
        "id": "0xOGZxvGUSmY",
        "outputId": "3a4afecf-7ae7-4150-911e-623657776ba6"
      },
      "outputs": [
        {
          "name": "stdout",
          "output_type": "stream",
          "text": [
            "This is armstrong number\n"
          ]
        }
      ],
      "source": [
        "#def is_armstrong(num):"
      ]
    },
    {
      "cell_type": "markdown",
      "metadata": {
        "id": "ByZOgyx9USmZ"
      },
      "source": [
        "Q9: Determine the subject with the highest score for a student.\n",
        "\n",
        "The three subjects and their corresponding scores are as follows:\n",
        "\n",
        "History: 90\n",
        "\n",
        "Math: 97\n",
        "\n",
        "English: 98"
      ]
    },
    {
      "cell_type": "code",
      "execution_count": null,
      "metadata": {
        "colab": {
          "base_uri": "https://localhost:8080/"
        },
        "id": "Rvgo_tjwUSmZ",
        "outputId": "1c1f8d56-dfcb-4148-e9e2-3ddc581e5849"
      },
      "outputs": [
        {
          "name": "stdout",
          "output_type": "stream",
          "text": [
            "English 98\n"
          ]
        }
      ],
      "source": [
        "#def get_max_socre(score_dic):"
      ]
    },
    {
      "cell_type": "markdown",
      "metadata": {
        "id": "TgZ5jjk7USmZ"
      },
      "source": [
        "Q10: Write a function `f(n)` that takes an input value `n` and calculates its factorial. Then, call this function to calculate the sum of factorials from 1! to 10! and output the result to the screen."
      ]
    },
    {
      "cell_type": "code",
      "execution_count": null,
      "metadata": {
        "colab": {
          "base_uri": "https://localhost:8080/"
        },
        "id": "tMX0rXHZUSmZ",
        "outputId": "6f66775b-25e0-4e8e-cd12-f0022d248cda"
      },
      "outputs": [
        {
          "name": "stdout",
          "output_type": "stream",
          "text": [
            "The sum of factorials from 1! to 10! = 4037913\n"
          ]
        }
      ],
      "source": [
        "#def factorial(n):"
      ]
    },
    {
      "cell_type": "markdown",
      "metadata": {},
      "source": [
        "Q11. Please design a function returns the absolute value of the entered number."
      ]
    },
    {
      "cell_type": "code",
      "execution_count": null,
      "metadata": {},
      "outputs": [],
      "source": [
        "#def absolute_value(num):\n"
      ]
    },
    {
      "cell_type": "markdown",
      "metadata": {
        "id": "OhAoYlRLUSmZ"
      },
      "source": [
        "#### Exercies2: Python Lambda"
      ]
    },
    {
      "cell_type": "markdown",
      "metadata": {
        "id": "qtvLpSDIe6H6"
      },
      "source": [
        "Q1: Add 10 to argument a, and return the result:"
      ]
    },
    {
      "cell_type": "code",
      "execution_count": null,
      "metadata": {
        "colab": {
          "base_uri": "https://localhost:8080/"
        },
        "id": "FX7m1xAxUSmZ",
        "outputId": "004909b3-d7a0-476d-a51f-7c6851f4120b"
      },
      "outputs": [
        {
          "name": "stdout",
          "output_type": "stream",
          "text": [
            "15\n"
          ]
        }
      ],
      "source": []
    },
    {
      "cell_type": "markdown",
      "metadata": {
        "id": "g4Rlg7QqUSmZ"
      },
      "source": [
        "Q2: Create a lambda function that takes a string as input and returns its length:"
      ]
    },
    {
      "cell_type": "code",
      "execution_count": null,
      "metadata": {
        "colab": {
          "base_uri": "https://localhost:8080/"
        },
        "id": "DBmFESs_USmZ",
        "outputId": "a72b342c-6cae-41ef-fcf1-46029ccedbc9"
      },
      "outputs": [
        {
          "name": "stdout",
          "output_type": "stream",
          "text": [
            "13\n"
          ]
        }
      ],
      "source": []
    },
    {
      "cell_type": "markdown",
      "metadata": {
        "id": "NFWJpTqPUSma"
      },
      "source": [
        "Q3: Create a lambda function that takes two numbers as input and returns their sum:"
      ]
    },
    {
      "cell_type": "code",
      "execution_count": null,
      "metadata": {
        "colab": {
          "base_uri": "https://localhost:8080/"
        },
        "id": "nsVLLcTKUSma",
        "outputId": "e7d1b01f-2ccb-4b63-eaab-4d993afb34c2"
      },
      "outputs": [
        {
          "name": "stdout",
          "output_type": "stream",
          "text": [
            "8\n"
          ]
        }
      ],
      "source": []
    },
    {
      "cell_type": "markdown",
      "metadata": {
        "id": "JescBsHFUSma"
      },
      "source": [
        "Q4: Create a lambda function that takes a number as input and returns True if it is divisible by 3, and False otherwise:"
      ]
    },
    {
      "cell_type": "code",
      "execution_count": null,
      "metadata": {
        "colab": {
          "base_uri": "https://localhost:8080/"
        },
        "id": "MP5hP8y8USma",
        "outputId": "fa74ec81-d62c-4954-b272-72996d5ef56f"
      },
      "outputs": [
        {
          "name": "stdout",
          "output_type": "stream",
          "text": [
            "True\n",
            "False\n"
          ]
        }
      ],
      "source": []
    },
    {
      "cell_type": "markdown",
      "metadata": {
        "id": "_p4q4YocUSma"
      },
      "source": [
        "Q5: Write a Python program to create a lambda function that adds 15 to a given number passed in as an argument, also create a lambda function that multiplies argument x with argument y and prints the result.\n"
      ]
    },
    {
      "cell_type": "code",
      "execution_count": null,
      "metadata": {
        "colab": {
          "base_uri": "https://localhost:8080/"
        },
        "id": "3easfb-gUSma",
        "outputId": "6973ef5e-d59f-4e2f-9b78-1a5d0d1efad8"
      },
      "outputs": [
        {
          "name": "stdout",
          "output_type": "stream",
          "text": [
            "25\n",
            "48\n"
          ]
        }
      ],
      "source": []
    },
    {
      "cell_type": "markdown",
      "metadata": {
        "id": "9llCn63O_AtR"
      },
      "source": [
        "Q6: Please design a function to implement a rolling dice function.\n",
        "We need to roll the dice for 10 times until the summation of each dice number reaches 10."
      ]
    },
    {
      "cell_type": "code",
      "execution_count": 2,
      "metadata": {
        "colab": {
          "base_uri": "https://localhost:8080/"
        },
        "id": "tVj3pqgB_AEu",
        "outputId": "aa0245f3-240a-45ff-9541-bb139deec590"
      },
      "outputs": [
        {
          "name": "stdout",
          "output_type": "stream",
          "text": [
            "DiceNumber: 1 PieceNumber: 1 \n",
            "\n",
            "DiceNumber: 1 PieceNumber: 2 \n",
            "\n",
            "DiceNumber: 6 PieceNumber: 8 \n",
            "\n",
            "DiceNumber: 5 PieceNumber: 13 \n",
            "\n"
          ]
        }
      ],
      "source": [
        "import random\n",
        "#def RollingDice(piece):"
      ]
    }
  ],
  "metadata": {
    "colab": {
      "provenance": []
    },
    "gist_id": "5cf6e153096947da7ad5a7abe3a530bd",
    "kernel_info": {
      "name": "python3"
    },
    "kernelspec": {
      "display_name": "Python 3 (ipykernel)",
      "language": "python",
      "name": "python3"
    },
    "language_info": {
      "codemirror_mode": {
        "name": "ipython",
        "version": 3
      },
      "file_extension": ".py",
      "mimetype": "text/x-python",
      "name": "python",
      "nbconvert_exporter": "python",
      "pygments_lexer": "ipython3",
      "version": "3.9.7"
    },
    "nteract": {
      "version": "0.28.0"
    }
  },
  "nbformat": 4,
  "nbformat_minor": 0
}
