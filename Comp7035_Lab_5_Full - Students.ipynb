{
  "cells": [
    {
      "cell_type": "markdown",
      "id": "0b3dd32b-9205-40e4-a86c-1dfe9c51ff7c",
      "metadata": {
        "id": "0b3dd32b-9205-40e4-a86c-1dfe9c51ff7c"
      },
      "source": [
        "## Lab Demo COMP7035 Topic 5\n",
        "### Objective\n",
        "- Numpy "
      ]
    },
    {
      "cell_type": "markdown",
      "id": "IsA0lgCJQLUM",
      "metadata": {
        "id": "IsA0lgCJQLUM"
      },
      "source": [
        "**Exercise-1**"
      ]
    },
    {
      "cell_type": "markdown",
      "id": "9SwRUQVOQNcx",
      "metadata": {
        "id": "9SwRUQVOQNcx"
      },
      "source": [
        "Q1. Given a Python array A = [3, 5, 1, 8, 9], writing a python program converting the array A into a numpy array A_np with all elements being set as a numpy float32 datatype. Printing A_np and A_np.dtype."
      ]
    },
    {
      "cell_type": "code",
      "execution_count": 1,
      "id": "i0F8545DQQD7",
      "metadata": {
        "id": "i0F8545DQQD7",
        "trusted": true
      },
      "outputs": [],
      "source": [
        "import numpy as np\n",
        "\n",
        "A = [3, 5, 1, 8, 9]\n",
        "\n",
        "# Write your codes\n"
      ]
    },
    {
      "cell_type": "markdown",
      "id": "z4e77LaNQSP7",
      "metadata": {
        "id": "z4e77LaNQSP7"
      },
      "source": [
        "Q2. Given a Python array A = [3, '5', 1., 8.0, 9], writing a python program converting A to a numpy array A_np with float32 dataype. Printing A_np and A_np.dtype. "
      ]
    },
    {
      "cell_type": "code",
      "execution_count": 2,
      "id": "pEI2wyzMQSiF",
      "metadata": {
        "id": "pEI2wyzMQSiF",
        "trusted": true
      },
      "outputs": [],
      "source": [
        "import numpy as np\n",
        "\n",
        "A = [3, '5', 1., 8.0, 9]\n",
        "\n",
        "# Write your codes\n"
      ]
    },
    {
      "cell_type": "markdown",
      "id": "NkeC87drQY1c",
      "metadata": {
        "id": "NkeC87drQY1c"
      },
      "source": [
        "Q3. Initializing a randomzied numpy array A with 10 elements being uniformly distributed between [0, 1)."
      ]
    },
    {
      "cell_type": "code",
      "execution_count": 3,
      "id": "3oEQtdAfQZHf",
      "metadata": {
        "id": "3oEQtdAfQZHf",
        "trusted": true
      },
      "outputs": [],
      "source": [
        "import numpy as np\n",
        "\n",
        "np.random.seed(1)\n",
        "\n",
        "# Write your codes (Hint: consider the use of np.random.rand)"
      ]
    },
    {
      "cell_type": "markdown",
      "id": "d_5eR7T_Qelm",
      "metadata": {
        "id": "d_5eR7T_Qelm"
      },
      "source": [
        "Q4: Given a lower bound L and an upper bound U, writing a Python function to initialize a randomized numpy array A with T elements being uniformly distributed between [L, U)."
      ]
    },
    {
      "cell_type": "code",
      "execution_count": 4,
      "id": "u7JOHRqmQe_Q",
      "metadata": {
        "id": "u7JOHRqmQe_Q",
        "trusted": true
      },
      "outputs": [
        {
          "name": "stdout",
          "output_type": "stream",
          "text": [
            "None\n"
          ]
        }
      ],
      "source": [
        "import numpy as np\n",
        "np.random.seed(1)\n",
        "\n",
        "def Uniform_Func(L: int, U: int, T: int) -> np.array: \n",
        "    # Write your codes (Hint: Consider np.random.uniform)\n",
        "    A = None \n",
        "    \n",
        "    return A\n",
        "\n",
        "print(Uniform_Func(1, 50, 10))"
      ]
    },
    {
      "cell_type": "markdown",
      "id": "Co_g3HeoQnyK",
      "metadata": {
        "id": "Co_g3HeoQnyK"
      },
      "source": [
        "Q5: Given a list of arrays A = [[1, 2, 3], [4, 5, 6]], writing a Python code to convert A into a numpy 2x3 size array (a 2x3 matrix) A_mat_np with float32 dataype. \n"
      ]
    },
    {
      "cell_type": "code",
      "execution_count": 5,
      "id": "H_QulVcHQomt",
      "metadata": {
        "id": "H_QulVcHQomt",
        "trusted": true
      },
      "outputs": [],
      "source": [
        "import numpy as np\n",
        "\n",
        "A = [[1, 2, 3], [4, 5, 6]]\n",
        "\n",
        "# Write your codes here\n"
      ]
    },
    {
      "cell_type": "markdown",
      "id": "LHEiybqgQ4Yv",
      "metadata": {
        "id": "LHEiybqgQ4Yv"
      },
      "source": [
        "Q6: Randomizing a numpy 2x3 size array (a 2x3 matrix) with elements uniformly distributed in $[0, 1)$, and print the sum of matrix columns."
      ]
    },
    {
      "cell_type": "code",
      "execution_count": 6,
      "id": "OeXAXAF-Q4zd",
      "metadata": {
        "id": "OeXAXAF-Q4zd",
        "trusted": true
      },
      "outputs": [],
      "source": [
        "import numpy as np\n",
        "np.random.seed(1)\n",
        "\n",
        "# Write your codes here\n"
      ]
    },
    {
      "cell_type": "markdown",
      "id": "5erhWf25Q8y-",
      "metadata": {
        "id": "5erhWf25Q8y-"
      },
      "source": [
        "Q7: Given a list of arrays A = [[2, '3', 5], ['1', 2.0, 3]], writing a Python program converting A into a numpy 2x3 size array (a 2x3 matrix) with float32 data type. Please output the following values: (1) The transpose of A; (2) The product of columns in A; (3) The sum of all values in A; (4) The maximum and minimum values in A."
      ]
    },
    {
      "cell_type": "code",
      "execution_count": 7,
      "id": "TZHILz74Q9EZ",
      "metadata": {
        "id": "TZHILz74Q9EZ",
        "trusted": true
      },
      "outputs": [],
      "source": [
        "import numpy as np\n",
        "\n",
        "A = [[2, '3', 5], ['1', 2.0, 3]]\n",
        "\n",
        "# Write your codes here\n"
      ]
    },
    {
      "cell_type": "markdown",
      "id": "A3F8fjy_RCIU",
      "metadata": {
        "id": "A3F8fjy_RCIU"
      },
      "source": [
        "Q8: Given a list of arrays A = [[5.5, 1.1, 8.7], [4.5, 9.8, 0.9]], converting A into a numpy matrix A_np, and also print the sorted matrix A_np_sort w.r.t columns."
      ]
    },
    {
      "cell_type": "code",
      "execution_count": 8,
      "id": "NppbOYy2RCah",
      "metadata": {
        "id": "NppbOYy2RCah",
        "trusted": true
      },
      "outputs": [],
      "source": [
        "import numpy as np\n",
        "\n",
        "A = [[5.5, 1.1, 8.7], [4.5, 9.8, 0.9]]\n",
        "\n",
        "# Write your codes here (Hint: consider the use of np.sort)\n"
      ]
    },
    {
      "cell_type": "markdown",
      "id": "fD23xM2ORKR7",
      "metadata": {
        "id": "fD23xM2ORKR7"
      },
      "source": [
        "Q9: Given a list of arrays A = [[5.5, 1.1, 8.7], [4.5, 9.8, 0.9]], we first need to convert A into a numpy matrix A_np.  Then, we expect a new numpy matrix B based on the shape of A and all of elements in B satisfy a Normal distribution with 0 mean and 1 variance. "
      ]
    },
    {
      "cell_type": "code",
      "execution_count": 9,
      "id": "RJFzhqtLRKko",
      "metadata": {
        "id": "RJFzhqtLRKko",
        "trusted": true
      },
      "outputs": [],
      "source": [
        "import numpy as np\n",
        "np.random.seed(1)\n",
        "\n",
        "A = [[5.5, 1.1, 8.7], [4.5, 9.8, 0.9]]\n",
        "\n",
        "# Write your codes here (Consider using np.random.randn)\n"
      ]
    },
    {
      "cell_type": "markdown",
      "id": "y6G21ar0RXHu",
      "metadata": {
        "id": "y6G21ar0RXHu"
      },
      "source": [
        "Q10: Given a list of arrays A = [[5.5, 1.1, 8.7], [4.5, 9.8, 0.9]], we first need to convert A into a numpy matrix A_np. Furthermore, writing a Python program to further reshape A into a tensor 2x3x1 A_tensor, and then change A_tensor back to the original A_np_orig. "
      ]
    },
    {
      "cell_type": "code",
      "execution_count": 10,
      "id": "3XgNU55ERXVd",
      "metadata": {
        "id": "3XgNU55ERXVd",
        "trusted": true
      },
      "outputs": [],
      "source": [
        "import numpy as np\n",
        "\n",
        "A = [[5.5, 1.1, 8.7], [4.5, 9.8, 0.9]]\n",
        "\n",
        "# Write your codes here (consider using squeeze())\n"
      ]
    },
    {
      "cell_type": "markdown",
      "id": "l6REBdb5RiAw",
      "metadata": {
        "id": "l6REBdb5RiAw"
      },
      "source": [
        "Q11: Invert the position of two lines in any matrix "
      ]
    },
    {
      "cell_type": "code",
      "execution_count": 11,
      "id": "zvF0gPClRkB1",
      "metadata": {
        "id": "zvF0gPClRkB1",
        "trusted": true
      },
      "outputs": [],
      "source": [
        "import numpy as np\n",
        "\n",
        "m_1 = np.arange(18).reshape(2, 9)\n",
        "\n",
        "# Write your codes here\n"
      ]
    },
    {
      "cell_type": "markdown",
      "id": "5f486484",
      "metadata": {},
      "source": [
        "Q12. To create a 4x4 size array of all 1 and an outer frame made of zeros"
      ]
    },
    {
      "cell_type": "code",
      "execution_count": null,
      "id": "70051ebb",
      "metadata": {
        "trusted": true
      },
      "outputs": [],
      "source": [
        "import numpy as np\n",
        "\n",
        "arr = np.ones((4, 4))\n",
        "\n",
        "# Write your codes here\n"
      ]
    },
    {
      "cell_type": "markdown",
      "id": "zcE_pBXITA6h",
      "metadata": {
        "id": "zcE_pBXITA6h"
      },
      "source": [
        "**Exercise-2**"
      ]
    },
    {
      "cell_type": "markdown",
      "id": "9d5db38f-7ebd-4df4-851e-3e1b304edb51",
      "metadata": {
        "id": "9d5db38f-7ebd-4df4-851e-3e1b304edb51"
      },
      "source": [
        "## Project: Curve Fitting"
      ]
    },
    {
      "cell_type": "markdown",
      "id": "e012f46d-31e1-4f4f-8869-da9ecb2649e7",
      "metadata": {
        "id": "e012f46d-31e1-4f4f-8869-da9ecb2649e7"
      },
      "source": [
        "As a data scientsit, you should understand the importance of curving fitting in analyzing and modeling data.\n",
        "Python provides powerful libraries like NumPy and SciPy that can help you effectively perform curve fitting tasks. \n",
        "In this guide, we will explore the basics of curve fitting using Python and discuss how to leverage the functionalities \n",
        "of Numpy and SciPy to accomplish this task eifficiently."
      ]
    },
    {
      "cell_type": "markdown",
      "id": "f9526c20-a5de-47d4-b657-73e5937cc6f0",
      "metadata": {
        "id": "f9526c20-a5de-47d4-b657-73e5937cc6f0",
        "tags": []
      },
      "source": [
        "**Python libraries for curve fitting: Numpy and SciPy**\n",
        "\n",
        "NumPy and SciPy are two popular libraries in Python that offer extensive support for numerical computing and scientific computing tasks. NumPy provides powerful array manipulation capabilities, while SciPy offers advanced mathematical algorithms and functions for scientific computations. Together, they provide a comprehensive environment for curve fitting and data analysis."
      ]
    },
    {
      "cell_type": "markdown",
      "id": "fa5812ac-b249-43a3-aa48-33656aba1727",
      "metadata": {
        "id": "fa5812ac-b249-43a3-aa48-33656aba1727"
      },
      "source": [
        "**Importing the Required Libraries**"
      ]
    },
    {
      "cell_type": "code",
      "execution_count": null,
      "id": "90afeb72-380c-4650-a410-08fc98a25ea5",
      "metadata": {
        "id": "90afeb72-380c-4650-a410-08fc98a25ea5",
        "trusted": true
      },
      "outputs": [],
      "source": [
        "import numpy as np\n",
        "from scipy.optimize import curve_fit\n",
        "import matplotlib.pyplot as plt"
      ]
    },
    {
      "cell_type": "markdown",
      "id": "641aff1c-d106-49e7-b2db-13333bbf6ccf",
      "metadata": {
        "id": "641aff1c-d106-49e7-b2db-13333bbf6ccf"
      },
      "source": [
        "**Curve Fitting with NumPy/SciPy**"
      ]
    },
    {
      "cell_type": "markdown",
      "id": "5d36370b-f56c-4a84-ab5c-6cd1ae1fa9c1",
      "metadata": {
        "id": "5d36370b-f56c-4a84-ab5c-6cd1ae1fa9c1"
      },
      "source": [
        "To perform curve fitting with NumPy and SciPy, we need a dataset and a function to fit the data. Let’s assume we have a set of data points stored in two arrays: x and y. We want to find the best-fit curve that represents this data.\n",
        "\n",
        "Given the lists X and Y, you could generate numpy array data."
      ]
    },
    {
      "cell_type": "code",
      "execution_count": 17,
      "id": "1c7205cd-22ab-4907-8eed-9edd20d537d4",
      "metadata": {
        "id": "1c7205cd-22ab-4907-8eed-9edd20d537d4",
        "outputId": "083ffd3b-66fd-4453-94b3-75f90806f8a7",
        "trusted": true
      },
      "outputs": [],
      "source": [
        "# Sample data\n",
        "X = [1, 2, 3, 4, 5]\n",
        "Y = [2.3, 3.4, 4.0, 4.8, 5.5]\n",
        "\n",
        "# Write your codes here\n",
        "X_np = None\n",
        "Y_np = None"
      ]
    },
    {
      "cell_type": "markdown",
      "id": "c5557a8b-a154-4b8d-ad68-5e46d579012a",
      "metadata": {},
      "source": [
        "Next, we define a function that represents the mathematical model we want to fit to the data. This function should take the independent variable (x) and the parameters to be optimized as input and return the predicted values (y_pred) based on the given parameters."
      ]
    },
    {
      "cell_type": "code",
      "execution_count": 18,
      "id": "e6ff2246-1319-438d-a3ea-8420544fef07",
      "metadata": {
        "trusted": true
      },
      "outputs": [],
      "source": [
        "# Define the function to fit\n",
        "def model_func(x: np.array, \n",
        "               a: np.array, \n",
        "               b: np.array):\n",
        "    # Write your codes here (write your own function, e.g. Y = a * X + b)\n",
        "    Y = None\n",
        "    \n",
        "    return Y"
      ]
    },
    {
      "cell_type": "markdown",
      "id": "95d70321-ca13-4426-9357-9e5de4df05a0",
      "metadata": {},
      "source": [
        "Now, we can use the curve_fit function from SciPy to perform the curve fitting. This function takes the following arguments: the function to fit (model_func), the independent variable (x), the dependent variable (y), and an initial guess for the parameters."
      ]
    },
    {
      "cell_type": "code",
      "execution_count": 19,
      "id": "a6ffbb96-abc1-466f-9e23-21328c1f7b24",
      "metadata": {
        "trusted": true
      },
      "outputs": [],
      "source": [
        "# Perform curve fitting\n",
        "params, params_covariance = curve_fit(model_func, X_np, Y_np, p0=[1, 1])"
      ]
    },
    {
      "cell_type": "markdown",
      "id": "0b933f6d-b916-4908-9a51-f9f330920132",
      "metadata": {},
      "source": [
        "The curve_fit function returns two values: params, which contains the optimized parameters, and params_covariance, which represents the estimated covariance of the parameters."
      ]
    },
    {
      "cell_type": "markdown",
      "id": "b099412a-6fd9-416e-8b80-239c263b0f2b",
      "metadata": {},
      "source": [
        "**Visualizing the Results**"
      ]
    },
    {
      "cell_type": "markdown",
      "id": "dcd71e49-6484-468a-aa99-65886720f11c",
      "metadata": {},
      "source": [
        "To visualize the results of the curve fitting, we can plot the original data points and the fitted curve using Matplotlib."
      ]
    },
    {
      "cell_type": "code",
      "execution_count": 126,
      "id": "e59b23da-d2d3-409e-8983-9800d2059d02",
      "metadata": {
        "trusted": true
      },
      "outputs": [
        {
          "data": {
            "image/png": "[encoded data removed]",
            "text/plain": [
              "<Figure size 640x480 with 1 Axes>"
            ]
          },
          "metadata": {},
          "output_type": "display_data"
        }
      ],
      "source": [
        "# Plotting the original data points\n",
        "plt.scatter(X_np, Y_np, label='Data')\n",
        "\n",
        "# Plotting the fitted curve\n",
        "x_range = np.linspace(0, 6, 100)\n",
        "y_pred = model_func(x_range, params[0], params[1])\n",
        "plt.plot(x_range, y_pred, color='red', label='Fitted curve')\n",
        "\n",
        "plt.xlabel('x')\n",
        "plt.ylabel('y')\n",
        "plt.legend()\n",
        "plt.show()"
      ]
    },
    {
      "cell_type": "markdown",
      "id": "4fdd6532-5334-417e-ba66-3ede3e61fe34",
      "metadata": {},
      "source": [
        "When the curve function is Y = a*X + b, then the resulting plot will display the original data points as scatter points and the fitted curve as a red line."
      ]
    },
    {
      "cell_type": "code",
      "execution_count": null,
      "id": "bd03caf7-8ef0-4c27-958f-c336ed09fd26",
      "metadata": {},
      "outputs": [],
      "source": []
    }
  ],
  "metadata": {
    "colab": {
      "provenance": []
    },
    "kernelspec": {
      "display_name": "Python (Pyodide)",
      "language": "python",
      "name": "python"
    },
    "language_info": {
      "codemirror_mode": {
        "name": "python",
        "version": 3
      },
      "file_extension": ".py",
      "mimetype": "text/x-python",
      "name": "python",
      "nbconvert_exporter": "python",
      "pygments_lexer": "ipython3",
      "version": "3.8"
    }
  },
  "nbformat": 4,
  "nbformat_minor": 5
}
