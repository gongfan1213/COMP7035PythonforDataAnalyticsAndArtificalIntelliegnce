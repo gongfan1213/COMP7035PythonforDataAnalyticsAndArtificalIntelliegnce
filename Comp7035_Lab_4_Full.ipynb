{
  "cells": [
    {
      "cell_type": "markdown",
      "id": "0b3dd32b-9205-40e4-a86c-1dfe9c51ff7c",
      "metadata": {
        "id": "0b3dd32b-9205-40e4-a86c-1dfe9c51ff7c"
      },
      "source": [
        "## Lab Demo COMP7035 Topic 4\n",
        "### Objective\n",
        "- File I/O  \n",
        "- Directory"
      ]
    },
    {
      "cell_type": "markdown",
      "id": "hktOaQwaSnLZ",
      "metadata": {
        "id": "hktOaQwaSnLZ"
      },
      "source": [
        "**The Python Contents That you Neet To Use**"
      ]
    },
    {
      "cell_type": "markdown",
      "id": "PYO8TAjdSlCP",
      "metadata": {
        "id": "PYO8TAjdSlCP"
      },
      "source": [
        "What is Python language?                                                \n",
        "Python is a widely used high-level, general-purpose, interpreted, dynamic programming language.Its design philosophy emphasizes code readability, and its syntax allows programmers to express concepts in fewer lines of code than possible in  languages such as C++ or Java. Python supports multiple programming paradigms, including object-oriented, imperative and functional programming or procedural styles.It features a dynamic type system and automatic memory management and has a large and comprehensive standard library.The best way we learn anything is by practice and exercise questions. We  have started this section for those (beginner to intermediate) who are familiar with Python."
      ]
    },
    {
      "cell_type": "markdown",
      "id": "IsA0lgCJQLUM",
      "metadata": {
        "id": "IsA0lgCJQLUM"
      },
      "source": [
        "**Exercise-1**"
      ]
    },
    {
      "cell_type": "markdown",
      "id": "9SwRUQVOQNcx",
      "metadata": {
        "id": "9SwRUQVOQNcx"
      },
      "source": [
        "Q1. Write a Python program to read an entire text file.\n",
        "\n"
      ]
    },
    {
      "cell_type": "code",
      "execution_count": null,
      "id": "i0F8545DQQD7",
      "metadata": {
        "id": "i0F8545DQQD7"
      },
      "outputs": [],
      "source": [
        "def file_read(fname):\n",
        "        txt = open(fname)\n",
        "        print(txt.read())\n",
        "\n",
        "file_read('test.txt')\n"
      ]
    },
    {
      "cell_type": "markdown",
      "id": "z4e77LaNQSP7",
      "metadata": {
        "id": "z4e77LaNQSP7"
      },
      "source": [
        "Q2. Write a Python program to read first n lines of a file.\n",
        "\n"
      ]
    },
    {
      "cell_type": "code",
      "execution_count": null,
      "id": "pEI2wyzMQSiF",
      "metadata": {
        "id": "pEI2wyzMQSiF"
      },
      "outputs": [],
      "source": [
        "def file_read_from_head(fname, nlines):\n",
        "        from itertools import islice\n",
        "        with open(fname) as f:\n",
        "                for line in islice(f, nlines):\n",
        "                        print(line)\n",
        "file_read_from_head('test.txt',2)"
      ]
    },
    {
      "cell_type": "markdown",
      "id": "NkeC87drQY1c",
      "metadata": {
        "id": "NkeC87drQY1c"
      },
      "source": [
        "Q3. Write a Python program to append text to a file and display the text."
      ]
    },
    {
      "cell_type": "code",
      "execution_count": null,
      "id": "3oEQtdAfQZHf",
      "metadata": {
        "id": "3oEQtdAfQZHf"
      },
      "outputs": [],
      "source": [
        "def file_read(fname):\n",
        "        from itertools import islice\n",
        "        with open(fname, \"w\") as myfile:\n",
        "                myfile.write(\"Python Exercises\\n\")\n",
        "                myfile.write(\"Java Exercises\")\n",
        "        txt = open(fname)\n",
        "        print(txt.read())\n",
        "file_read('abc.txt')"
      ]
    },
    {
      "cell_type": "markdown",
      "id": "d_5eR7T_Qelm",
      "metadata": {
        "id": "d_5eR7T_Qelm"
      },
      "source": [
        "Q4: Write a Python program to read a file line by line and store it into a list."
      ]
    },
    {
      "cell_type": "code",
      "execution_count": null,
      "id": "u7JOHRqmQe_Q",
      "metadata": {
        "id": "u7JOHRqmQe_Q"
      },
      "outputs": [],
      "source": [
        "def file_read(fname):\n",
        "        with open(fname) as f:\n",
        "                #Content_list is the list that contains the read lines.\n",
        "                content_list = f.readlines()\n",
        "                print(content_list)\n",
        "\n",
        "file_read('test.txt')"
      ]
    },
    {
      "cell_type": "markdown",
      "id": "Co_g3HeoQnyK",
      "metadata": {
        "id": "Co_g3HeoQnyK"
      },
      "source": [
        "Q5: Write a Python program to read a file line by line store it into a variable.\n"
      ]
    },
    {
      "cell_type": "code",
      "execution_count": null,
      "id": "H_QulVcHQomt",
      "metadata": {
        "id": "H_QulVcHQomt"
      },
      "outputs": [],
      "source": [
        "def file_read(fname):\n",
        "        with open (fname, \"r\") as myfile:\n",
        "                data=myfile.readlines()\n",
        "                print(data)\n",
        "file_read('test.txt')"
      ]
    },
    {
      "cell_type": "markdown",
      "id": "LHEiybqgQ4Yv",
      "metadata": {
        "id": "LHEiybqgQ4Yv"
      },
      "source": [
        "Q6: Write a python program to find the longest words."
      ]
    },
    {
      "cell_type": "code",
      "execution_count": null,
      "id": "OeXAXAF-Q4zd",
      "metadata": {
        "id": "OeXAXAF-Q4zd"
      },
      "outputs": [],
      "source": [
        "def longest_word(filename):\n",
        "    with open(filename, 'r') as infile:\n",
        "              words = infile.read().split()\n",
        "    max_len = max(len(word) for word in words)\n",
        "    return [word for word in words if len(word) == max_len]\n",
        "\n",
        "print(longest_word('test.txt'))"
      ]
    },
    {
      "cell_type": "markdown",
      "id": "5erhWf25Q8y-",
      "metadata": {
        "id": "5erhWf25Q8y-"
      },
      "source": [
        "Q7: Write a Python program to count the number of lines in a text file.\n",
        "\n"
      ]
    },
    {
      "cell_type": "code",
      "execution_count": null,
      "id": "TZHILz74Q9EZ",
      "metadata": {
        "id": "TZHILz74Q9EZ"
      },
      "outputs": [],
      "source": [
        "def count_lines(filename):\n",
        "  with open(filename, 'r') as file:\n",
        "            lines = file.readlines()\n",
        "            return len(lines)\n",
        "\n",
        "print(\"Number of lines in the file: \", count_lines(\"test.txt\"))\n"
      ]
    },
    {
      "cell_type": "markdown",
      "id": "A3F8fjy_RCIU",
      "metadata": {
        "id": "A3F8fjy_RCIU"
      },
      "source": [
        "Q8: Write a Python program to count the frequency of words in a file.\n",
        "\n",
        "**Hint**: Please search this yourself: from collections import Counter\n"
      ]
    },
    {
      "cell_type": "code",
      "execution_count": null,
      "id": "NppbOYy2RCah",
      "metadata": {
        "id": "NppbOYy2RCah"
      },
      "outputs": [],
      "source": [
        "from collections import Counter\n",
        "def word_count(fname):\n",
        "        with open(fname) as f:\n",
        "                return Counter(f.read().split())\n",
        "\n",
        "print(\"Number of words in the file :\",word_count(\"test.txt\"))"
      ]
    },
    {
      "cell_type": "markdown",
      "id": "fD23xM2ORKR7",
      "metadata": {
        "id": "fD23xM2ORKR7"
      },
      "source": [
        "Q9: Write a Python program to read a random line from a file.\n",
        "\n"
      ]
    },
    {
      "cell_type": "code",
      "execution_count": null,
      "id": "RJFzhqtLRKko",
      "metadata": {
        "id": "RJFzhqtLRKko"
      },
      "outputs": [],
      "source": [
        "import random\n",
        "def random_line(fname):\n",
        "    lines = open(fname).read().splitlines()\n",
        "    return random.choice(lines)\n",
        "print(random_line('test.txt'))"
      ]
    },
    {
      "cell_type": "markdown",
      "id": "y6G21ar0RXHu",
      "metadata": {
        "id": "y6G21ar0RXHu"
      },
      "source": [
        "Q10: Write a Python program to assess if a file is closed or not."
      ]
    },
    {
      "cell_type": "code",
      "execution_count": null,
      "id": "3XgNU55ERXVd",
      "metadata": {
        "id": "3XgNU55ERXVd"
      },
      "outputs": [],
      "source": [
        "f = open('abc.txt','r')\n",
        "print(f.closed)\n",
        "f.close()\n",
        "print(f.closed)"
      ]
    },
    {
      "cell_type": "markdown",
      "id": "l6REBdb5RiAw",
      "metadata": {
        "id": "l6REBdb5RiAw"
      },
      "source": [
        "Q11: Write a Python program to generate 26 text files named A.txt, B.txt, and so on up to Z.txt.\n",
        "\n",
        "**Hint: Please check this on Internet: string.ascii_uppercase**\n"
      ]
    },
    {
      "cell_type": "code",
      "execution_count": null,
      "id": "zvF0gPClRkB1",
      "metadata": {
        "id": "zvF0gPClRkB1"
      },
      "outputs": [],
      "source": [
        "import string, os\n",
        "if not os.path.exists(\"letters\"):\n",
        "   os.makedirs(\"letters\")\n",
        "for letter in string.ascii_uppercase:\n",
        "   with open(letter + \".txt\", \"w\") as f:\n",
        "       f.writelines(letter)"
      ]
    },
    {
      "cell_type": "markdown",
      "id": "5f486484",
      "metadata": {},
      "source": [
        "Q11. Count the number of words in a file."
      ]
    },
    {
      "cell_type": "code",
      "execution_count": null,
      "id": "70051ebb",
      "metadata": {},
      "outputs": [],
      "source": [
        "def count_words(filepath):\n",
        "   with open(filepath) as f:\n",
        "       data = f.read()\n",
        "       data.replace(\",\", \" \")\n",
        "       return len(data.split(\" \"))\n",
        "   with open(\"open.txt\", \"w+\") as f:\n",
        "    f.write(\"Write a Python program that accept some words, Hello Hello\")\n",
        "print(count_words(\"open.txt\"))"
      ]
    },
    {
      "cell_type": "markdown",
      "id": "zcE_pBXITA6h",
      "metadata": {
        "id": "zcE_pBXITA6h"
      },
      "source": [
        "**Exercise-2**"
      ]
    },
    {
      "cell_type": "markdown",
      "id": "b60d5c67-53f4-4254-9e31-3dde911b024a",
      "metadata": {
        "id": "b60d5c67-53f4-4254-9e31-3dde911b024a"
      },
      "source": [
        "![distrcits](https://upload.wikimedia.org/wikipedia/commons/thumb/f/fe/Map_of_Hong_Kong_18_Districts_en.svg/1024px-Map_of_Hong_Kong_18_Districts_en.svg.png)"
      ]
    },
    {
      "cell_type": "markdown",
      "id": "9d5db38f-7ebd-4df4-851e-3e1b304edb51",
      "metadata": {
        "id": "9d5db38f-7ebd-4df4-851e-3e1b304edb51"
      },
      "source": [
        "The districts of Hong Kong are the 18 political areas of Hong Kong, a special administrative region of the People's Republic of China, that are geographically and administratively divided. Each district has a district council, formerly district boards, for which the boards were established in 1982. [More details](https://en.wikipedia.org/wiki/Districts_of_Hong_Kong)  \n",
        "The file `districts.txt` on Moodle contains 18 district names. We can read the file and display the distrcit names in alphabetical order"
      ]
    },
    {
      "cell_type": "code",
      "execution_count": null,
      "id": "3f9a9d05-aee2-42d7-be22-d06865d50cad",
      "metadata": {
        "id": "3f9a9d05-aee2-42d7-be22-d06865d50cad",
        "outputId": "16eaf463-cf01-487d-958a-23e2c6d99e01"
      },
      "outputs": [
        {
          "name": "stdout",
          "output_type": "stream",
          "text": [
            "Central and Western\n",
            "\n",
            "Eastern\n",
            "\n",
            "Islands\n",
            "\n",
            "Kowloon City\n",
            "\n",
            "Kwai Tsing\n",
            "\n",
            "Kwun Tong\n",
            "\n",
            "North\n",
            "\n",
            "Sai Kung\n",
            "\n",
            "Sha Tin\n",
            "\n",
            "Sham Shui Po\n",
            "\n",
            "Southern\n",
            "\n",
            "Tai Po\n",
            "\n",
            "Tsuen Wan\n",
            "\n",
            "Tuen Mun\n",
            "\n",
            "Wan Chai\n",
            "\n",
            "Wong Tai Sin\n",
            "\n",
            "Yau Tsim Mong\n",
            "\n",
            "Yuen Long\n",
            "\n"
          ]
        }
      ],
      "source": [
        "file = open('./districts.txt','r')\n",
        "districts = [line for line in file]\n",
        "districts.sort()\n",
        "for i in range(0, 18):\n",
        "    print(districts[i])\n",
        "file.close()"
      ]
    },
    {
      "cell_type": "code",
      "execution_count": null,
      "id": "91b334de-8290-4860-8168-f65eeddeb40c",
      "metadata": {
        "id": "91b334de-8290-4860-8168-f65eeddeb40c",
        "outputId": "d8b7ebd6-fa71-47a7-8de6-5a8d151528e6"
      },
      "outputs": [
        {
          "name": "stdout",
          "output_type": "stream",
          "text": [
            "['choi@comp.hkbu.edu.hk', 'chxw@comp.hkbu.edu.hk', 'jiming@comp.hkbu.edu.hk', 'jng@comp.hkbu.edu.hk', 'pcyuen@comp.hkbu.edu.hk', 'william@comp.hkbu.edu.hk', 'xujl@comp.hkbu.edu.hk', 'yikeguo@hkbu.edu.hk', 'ymc@comp.hkbu.edu.hk', 'ywleung@comp.hkbu.edu.hk']\n"
          ]
        }
      ],
      "source": [
        "import os\n",
        "path = './data'\n",
        "emails = []\n",
        "for file in os.listdir(path):\n",
        "    file = open(path + '//' + file, 'r')\n",
        "    for line in file:\n",
        "        if '@' in line:\n",
        "            emails.append(line.rstrip('\\n'))\n",
        "    file.close()\n",
        "emails.sort()\n",
        "print(emails)"
      ]
    },
    {
      "cell_type": "markdown",
      "id": "641aff1c-d106-49e7-b2db-13333bbf6ccf",
      "metadata": {
        "id": "641aff1c-d106-49e7-b2db-13333bbf6ccf"
      },
      "source": [
        "## Get current directory"
      ]
    },
    {
      "cell_type": "code",
      "execution_count": null,
      "id": "cb7f575f-1f16-402e-9fc5-ab5aed61ab2e",
      "metadata": {
        "id": "cb7f575f-1f16-402e-9fc5-ab5aed61ab2e",
        "outputId": "d374ef1d-0a4d-4479-980a-91f47896cafd",
        "tags": []
      },
      "outputs": [
        {
          "data": {
            "text/plain": [
              "'C:\\\\Users\\\\zeropang\\\\Desktop\\\\Comp7035\\\\MyLab\\\\lab4'"
            ]
          },
          "execution_count": 6,
          "metadata": {},
          "output_type": "execute_result"
        }
      ],
      "source": [
        "import os\n",
        "\n",
        "os.getcwd()"
      ]
    },
    {
      "cell_type": "markdown",
      "id": "5d36370b-f56c-4a84-ab5c-6cd1ae1fa9c1",
      "metadata": {
        "id": "5d36370b-f56c-4a84-ab5c-6cd1ae1fa9c1"
      },
      "source": [
        "The extra `\\` is use for the escape sequence  \n",
        "You can get the same result if you use the full path"
      ]
    },
    {
      "cell_type": "code",
      "execution_count": null,
      "id": "1c7205cd-22ab-4907-8eed-9edd20d537d4",
      "metadata": {
        "id": "1c7205cd-22ab-4907-8eed-9edd20d537d4",
        "outputId": "083ffd3b-66fd-4453-94b3-75f90806f8a7"
      },
      "outputs": [
        {
          "name": "stdout",
          "output_type": "stream",
          "text": [
            "Central and Western\n",
            "\n",
            "Eastern\n",
            "\n",
            "Islands\n",
            "\n",
            "Kowloon City\n",
            "\n",
            "Kwai Tsing\n",
            "\n",
            "Kwun Tong\n",
            "\n",
            "North\n",
            "\n",
            "Sai Kung\n",
            "\n",
            "Sha Tin\n",
            "\n",
            "Sham Shui Po\n",
            "\n",
            "Southern\n",
            "\n",
            "Tai Po\n",
            "\n",
            "Tsuen Wan\n",
            "\n",
            "Tuen Mun\n",
            "\n",
            "Wan Chai\n",
            "\n",
            "Wong Tai Sin\n",
            "\n",
            "Yau Tsim Mong\n",
            "\n",
            "Yuen Long\n",
            "\n"
          ]
        }
      ],
      "source": [
        "file = open(os.getcwd() + '\\districts.txt','r')\n",
        "districts = [line for line in file]\n",
        "districts.sort()\n",
        "for i in range(0, 18):\n",
        "    print(districts[i])\n",
        "file.close()"
      ]
    }
  ],
  "metadata": {
    "colab": {
      "provenance": []
    },
    "kernelspec": {
      "display_name": "Python 3 (ipykernel)",
      "language": "python",
      "name": "python3"
    },
    "language_info": {
      "codemirror_mode": {
        "name": "ipython",
        "version": 3
      },
      "file_extension": ".py",
      "mimetype": "text/x-python",
      "name": "python",
      "nbconvert_exporter": "python",
      "pygments_lexer": "ipython3",
      "version": "3.8.8"
    }
  },
  "nbformat": 4,
  "nbformat_minor": 5
}
